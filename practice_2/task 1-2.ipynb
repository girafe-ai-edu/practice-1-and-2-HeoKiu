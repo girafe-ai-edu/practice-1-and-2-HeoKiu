{
  "cells": [
    {
      "cell_type": "markdown",
      "id": "ee761a4d",
      "metadata": {
        "id": "ee761a4d"
      },
      "source": [
        "## Tasks №1 and Tasks №2\n",
        "\n",
        "Jupiter notebook is an interactive development environment with live code. It shows a visualization of the work. If a developer wants to look at a graph or formula, he writes the necessary command in the appropriate cell. This approach saves time and helps to avoid mistakes.\n",
        "\n",
        "\n"
      ]
    },
    {
      "cell_type": "markdown",
      "id": "e48306d5",
      "metadata": {
        "id": "e48306d5"
      },
      "source": [
        "## Useful features  \n",
        "\n",
        "Magic commands that work in ipython that can help you run and analyze data in jupyter notebook. They add special functionality that is not easy to achieve with Python code or the Jupyter notebook interface.\n",
        "\n",
        "All maigc commonds %lsmagic"
      ]
    },
    {
      "cell_type": "markdown",
      "id": "9bd76b2c",
      "metadata": {
        "id": "9bd76b2c"
      },
      "source": [
        "### Working with cells\n",
        "The code is executed inside the cells, sequentially based on the number to the left of the cell."
      ]
    },
    {
      "cell_type": "code",
      "execution_count": null,
      "id": "c5cec0a1",
      "metadata": {
        "id": "c5cec0a1"
      },
      "outputs": [],
      "source": [
        "\n",
        "a=1\n",
        "print('Output  а variable = ',a)"
      ]
    },
    {
      "cell_type": "code",
      "execution_count": null,
      "id": "536a28ff",
      "metadata": {
        "id": "536a28ff"
      },
      "outputs": [],
      "source": [
        "b=2\n",
        "print('Output b variable b = ',b)"
      ]
    },
    {
      "cell_type": "code",
      "execution_count": null,
      "id": "52629efb",
      "metadata": {
        "id": "52629efb"
      },
      "outputs": [],
      "source": [
        "#We can output variables from previously started cells\n",
        "print(a,b)"
      ]
    },
    {
      "cell_type": "markdown",
      "id": "b5982dba",
      "metadata": {
        "id": "b5982dba"
      },
      "source": [
        "### Task №1\n",
        "There are dimensions width (a) and length of the room (b) and height of the walls (c), output the volume of the room in m3 with a floating point"
      ]
    },
    {
      "cell_type": "code",
      "execution_count": 1,
      "id": "08285930",
      "metadata": {
        "id": "08285930",
        "outputId": "35c1b650-7940-422a-b7e6-7d8ea38933a4",
        "colab": {
          "base_uri": "https://localhost:8080/"
        }
      },
      "outputs": [
        {
          "output_type": "stream",
          "name": "stdout",
          "text": [
            "36\n"
          ]
        }
      ],
      "source": [
        "a = 3\n",
        "b = 4\n",
        "c = 3\n",
        "\n",
        "#code here\n",
        "print(a*b*c)\n"
      ]
    },
    {
      "cell_type": "markdown",
      "id": "24622ae5",
      "metadata": {
        "id": "24622ae5"
      },
      "source": [
        "### Task №2\n",
        "There is a list of list_v values, output a list without duplicate values\n"
      ]
    },
    {
      "cell_type": "code",
      "execution_count": 3,
      "id": "0a0766ee",
      "metadata": {
        "id": "0a0766ee",
        "outputId": "8200b905-5681-49c2-80df-87b0683bc294",
        "colab": {
          "base_uri": "https://localhost:8080/"
        }
      },
      "outputs": [
        {
          "output_type": "stream",
          "name": "stdout",
          "text": [
            "[2, 3, 4, 5, 0]\n"
          ]
        }
      ],
      "source": [
        "list_v = [2,2,3,4,5,0,0]\n",
        "\n",
        "list_without_duplicates = list(dict.fromkeys(list_v))\n",
        "\n",
        "print(list_without_duplicates)"
      ]
    },
    {
      "cell_type": "code",
      "execution_count": null,
      "id": "120304ae",
      "metadata": {
        "id": "120304ae"
      },
      "outputs": [],
      "source": []
    }
  ],
  "metadata": {
    "kernelspec": {
      "display_name": "Python 3",
      "language": "python",
      "name": "python3"
    },
    "language_info": {
      "codemirror_mode": {
        "name": "ipython",
        "version": 3
      },
      "file_extension": ".py",
      "mimetype": "text/x-python",
      "name": "python",
      "nbconvert_exporter": "python",
      "pygments_lexer": "ipython3",
      "version": "3.8.8"
    },
    "colab": {
      "provenance": []
    }
  },
  "nbformat": 4,
  "nbformat_minor": 5
}
